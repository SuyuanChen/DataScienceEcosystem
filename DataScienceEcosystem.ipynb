{
 "cells": [
  {
   "cell_type": "markdown",
   "id": "1b5620b7-6e03-4013-9972-d6f7b42adbb7",
   "metadata": {},
   "source": [
    "# Data Science Tools and Ecosystem"
   ]
  },
  {
   "cell_type": "markdown",
   "id": "9b601ab7-245e-4961-8104-065d24aaa367",
   "metadata": {},
   "source": [
    "In this notebook, Data Science Tools and Ecosystem are summarized."
   ]
  },
  {
   "cell_type": "markdown",
   "id": "20383e27-d545-4aa0-a15a-c3923b5ae617",
   "metadata": {},
   "source": [
    "**Objectives:**"
   ]
  },
  {
   "cell_type": "markdown",
   "id": "edef7f67-1faa-49af-9c2b-4bb29da8fdbc",
   "metadata": {},
   "source": [
    "popular languages for Data Science"
   ]
  },
  {
   "cell_type": "markdown",
   "id": "64c5434a-2b02-4340-a003-e248cadbff35",
   "metadata": {},
   "source": [
    "* Python\n",
    "* R\n",
    "* SQL"
   ]
  },
  {
   "cell_type": "markdown",
   "id": "10f5c1d8-9b40-4725-b781-6eb110a3ba8e",
   "metadata": {},
   "source": [
    "Some of the popular languages that Data Scientists use are:"
   ]
  },
  {
   "cell_type": "markdown",
   "id": "ba51cfdf-d97d-4b60-b56a-1ee5ea80ac07",
   "metadata": {},
   "source": [
    "1. Python\n",
    "2. R\n",
    "3. SQL"
   ]
  },
  {
   "cell_type": "markdown",
   "id": "c72fe7a3-e860-4d63-984a-3c104e1b09da",
   "metadata": {},
   "source": [
    "Some of the commonly used libraries used by Data Scientists include:"
   ]
  },
  {
   "cell_type": "markdown",
   "id": "8b2c2871-5854-4f11-8e86-034b4f68bb04",
   "metadata": {},
   "source": [
    "1. NumPy\n",
    "2. Pandas\n",
    "3. TensorFlow"
   ]
  },
  {
   "cell_type": "markdown",
   "id": "c9bd3388-765e-4d0d-8603-7cee3312591d",
   "metadata": {
    "tags": []
   },
   "source": [
    "| Data Science Tools |\n",
    "| ---                |\n",
    "| Jupyter Notebook   |\n",
    "| RStudio            |\n",
    "| Visual Studio Code (VS Code)            |"
   ]
  },
  {
   "cell_type": "markdown",
   "id": "981931e2-f31f-4f22-8720-3dbf335c4ab3",
   "metadata": {},
   "source": [
    "### Below are a few examples of evaluating arithmetic expressions in Python"
   ]
  },
  {
   "cell_type": "markdown",
   "id": "31177755-8cde-46f7-b573-2f79ebaeb6b0",
   "metadata": {},
   "source": [
    "This a simple arithmetic expression to mutiply then add integers"
   ]
  },
  {
   "cell_type": "code",
   "execution_count": 18,
   "id": "ad121815-c462-4e78-93e8-60aba41a8d6b",
   "metadata": {
    "tags": []
   },
   "outputs": [
    {
     "data": {
      "text/plain": [
       "17"
      ]
     },
     "execution_count": 18,
     "metadata": {},
     "output_type": "execute_result"
    }
   ],
   "source": [
    "(3*4)+5"
   ]
  },
  {
   "cell_type": "markdown",
   "id": "4eebe677-8d32-497c-9fea-e37efdf056e9",
   "metadata": {},
   "source": [
    "This will convert 200 minutes to hours by diving by 60"
   ]
  },
  {
   "cell_type": "code",
   "execution_count": 23,
   "id": "253d11ca-9cdb-48fc-8318-52465cc77bcf",
   "metadata": {
    "tags": []
   },
   "outputs": [
    {
     "data": {
      "text/plain": [
       "3.3333333333333335"
      ]
     },
     "execution_count": 23,
     "metadata": {},
     "output_type": "execute_result"
    }
   ],
   "source": [
    "200/60"
   ]
  },
  {
   "cell_type": "markdown",
   "id": "8bdc33c4-468e-423d-b2b7-b7cd51171808",
   "metadata": {
    "tags": []
   },
   "source": [
    "## Author"
   ]
  },
  {
   "cell_type": "markdown",
   "id": "30161687-3238-473d-9220-883da8698c03",
   "metadata": {},
   "source": [
    "SY"
   ]
  },
  {
   "cell_type": "code",
   "execution_count": null,
   "id": "f93866ac-65d5-4fd6-b356-f0391f7741ed",
   "metadata": {},
   "outputs": [],
   "source": []
  }
 ],
 "metadata": {
  "kernelspec": {
   "display_name": "Python 3 (ipykernel)",
   "language": "python",
   "name": "python3"
  },
  "language_info": {
   "codemirror_mode": {
    "name": "ipython",
    "version": 3
   },
   "file_extension": ".py",
   "mimetype": "text/x-python",
   "name": "python",
   "nbconvert_exporter": "python",
   "pygments_lexer": "ipython3",
   "version": "3.11.7"
  }
 },
 "nbformat": 4,
 "nbformat_minor": 5
}
